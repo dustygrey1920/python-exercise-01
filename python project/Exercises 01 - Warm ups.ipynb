{
 "cells": [
  {
   "cell_type": "markdown",
   "metadata": {},
   "source": [
    "<div>\n",
    "    <img src=\"images/emlyon.png\" style=\"height:60px; float:left; padding-right:10px; margin-top:5px\" />\n",
    "    <span>\n",
    "        <h1 style=\"padding-bottom:5px;\"> Python BootCamp </h1>\n",
    "        <a href=\"https://masters.em-lyon.com/en/msc-in-digital-marketing-data-science\">[Emlyon]</a> MSc in Digital Marketing & Data Science (DMDS) <br/>\n",
    "         September 2022, Paris | © Saeed VARASTEH [RP] | Lucas VILLAIN\n",
    "    </span>\n",
    "</div>"
   ]
  },
  {
   "cell_type": "markdown",
   "metadata": {},
   "source": [
    "<div class=\"alert-info\" style=\"border-bottom: solid 1px lightgray; background-color:#ece4f5;\">\n",
    "    <img src=\"images/assignment.png\" style=\"height:60px; float:left; padding-right:10px;\" />\n",
    "    <span style=\"font-weight:bold; color:#8966b0\">\n",
    "        <h4 style=\"padding-top:25px;\"> EXERCISES 01 </h4>\n",
    "    </span>\n",
    "</div>"
   ]
  },
  {
   "cell_type": "markdown",
   "metadata": {},
   "source": [
    "### Exercises 01 - Warm ups\n",
    "\n",
    "---"
   ]
  },
  {
   "cell_type": "markdown",
   "metadata": {},
   "source": [
    "<div style='color:gray;'> \n",
    "PART ONE\n",
    "</div>"
   ]
  },
  {
   "cell_type": "markdown",
   "metadata": {},
   "source": [
    "The command `type()` can be used to determine the data type of a variable. Write a script that asks for an input using `input()` and then prints the resulting data type."
   ]
  },
  {
   "cell_type": "code",
   "execution_count": 1,
   "metadata": {},
   "outputs": [
    {
     "ename": "SyntaxError",
     "evalue": "EOL while scanning string literal (2599645008.py, line 2)",
     "output_type": "error",
     "traceback": [
      "\u001b[1;36m  Input \u001b[1;32mIn [1]\u001b[1;36m\u001b[0m\n\u001b[1;33m    a = input(\"temperature')\u001b[0m\n\u001b[1;37m                            ^\u001b[0m\n\u001b[1;31mSyntaxError\u001b[0m\u001b[1;31m:\u001b[0m EOL while scanning string literal\n"
     ]
    }
   ],
   "source": [
    "# your code\n",
    "a = input(\"temperature')\n",
    "print(type(a))\n",
    "\n"
   ]
  },
  {
   "cell_type": "markdown",
   "metadata": {},
   "source": [
    "Which of the following lines of code throws an error? Why?"
   ]
  },
  {
   "cell_type": "code",
   "execution_count": null,
   "metadata": {},
   "outputs": [],
   "source": [
    "2+2"
   ]
  },
  {
   "cell_type": "code",
   "execution_count": null,
   "metadata": {},
   "outputs": [],
   "source": [
    "5=3+2"
   ]
  },
  {
   "cell_type": "code",
   "execution_count": null,
   "metadata": {},
   "outputs": [],
   "source": [
    "5 == 3 + 2"
   ]
  },
  {
   "cell_type": "code",
   "execution_count": null,
   "metadata": {},
   "outputs": [],
   "source": [
    "k=5"
   ]
  },
  {
   "cell_type": "code",
   "execution_count": null,
   "metadata": {},
   "outputs": [],
   "source": [
    "a=b"
   ]
  },
  {
   "cell_type": "markdown",
   "metadata": {},
   "source": [
    "__Grocery list:__\n",
    "\n",
    "Complete the script: Print a sentence about the total price for cheese and the total price for the apples.\n",
    "\n",
    "The output could for example look like this: All apples together cost 42 and all cheese together cost 128.\n",
    "\n",
    "Note: Make sure that your results are calculated automatically, do not calculate them by hand and fill them in!"
   ]
  },
  {
   "cell_type": "code",
   "execution_count": 2,
   "metadata": {},
   "outputs": [
    {
     "ename": "SyntaxError",
     "evalue": "invalid syntax (160731731.py, line 13)",
     "output_type": "error",
     "traceback": [
      "\u001b[1;36m  Input \u001b[1;32mIn [2]\u001b[1;36m\u001b[0m\n\u001b[1;33m    print(\"All apples together cost\" {total_cheese} \"and all cheese together cost\", {total_apple})\u001b[0m\n\u001b[1;37m                                     ^\u001b[0m\n\u001b[1;31mSyntaxError\u001b[0m\u001b[1;31m:\u001b[0m invalid syntax\n"
     ]
    }
   ],
   "source": [
    "# items\n",
    "item_a = 'cheese'\n",
    "item_b = 'apple'\n",
    "# prices per unit\n",
    "price_a = 4.2 \n",
    "price_b = 1.2 \n",
    "# quantities\n",
    "quantity_a = 2\n",
    "quantity_b = 5\n",
    "# your code\n",
    "total_cheese = price_a * quantity_a\n",
    "total_apple = price_b * quantity_b\n",
    "print(\"All apples together cost\" {total_cheese} \"and all cheese together cost\", {total_apple})"
   ]
  },
  {
   "cell_type": "markdown",
   "metadata": {},
   "source": [
    "<div style='color:gray;'> \n",
    "PART TWO\n",
    "</div>"
   ]
  },
  {
   "cell_type": "markdown",
   "metadata": {},
   "source": [
    "__Functions__"
   ]
  },
  {
   "cell_type": "markdown",
   "metadata": {},
   "source": [
    "Create a function that computes the euclidian distance between two points in a 2D plane A(x1,y1) and B (x2,y2)."
   ]
  },
  {
   "cell_type": "code",
   "execution_count": null,
   "metadata": {},
   "outputs": [],
   "source": [
    "def squared_euclidian_distance(x1, y1, x2, y2):\n",
    "    ### your code\n",
    "    dist = (x1-x2)**2 + (y1-y2)**2\n",
    "    return dist\n",
    "\n",
    "## Test your function\n",
    "\n",
    "result_from_fun1 = squared_euclidian_distance(0,0,1,1)\n",
    "result_from_fun2 = squared_euclidian_distance(4,5,1,1)\n",
    "\n",
    "print(result_from_fun1 + result_from_fun2)"
   ]
  },
  {
   "cell_type": "code",
   "execution_count": null,
   "metadata": {},
   "outputs": [],
   "source": []
  },
  {
   "cell_type": "markdown",
   "metadata": {},
   "source": [
    "Create a function that computes the ramp function => https://en.wikipedia.org/wiki/Ramp_function"
   ]
  },
  {
   "cell_type": "code",
   "execution_count": null,
   "metadata": {},
   "outputs": [],
   "source": [
    "def ramp(x):\n",
    "    if x <0: \n",
    "        return 0 \n",
    "    else:\n",
    "        return x \n",
    "    \n",
    "print(ramp(5))"
   ]
  },
  {
   "cell_type": "markdown",
   "metadata": {},
   "source": [
    "<div style='color:gray;'> \n",
    "PART THREE\n",
    "</div>"
   ]
  },
  {
   "cell_type": "markdown",
   "metadata": {},
   "source": [
    "__Loops__"
   ]
  },
  {
   "cell_type": "markdown",
   "metadata": {},
   "source": [
    "Write a script that will repeatedly ask the user to enter a word until they enter the string \"exit\". Hint: You can use a `while`-loop and `input()` to implement this. "
   ]
  },
  {
   "cell_type": "code",
   "execution_count": 3,
   "metadata": {},
   "outputs": [
    {
     "name": "stdout",
     "output_type": "stream",
     "text": [
      "5\n",
      "5\n",
      "5\n",
      "5\n",
      "5\n",
      "5\n",
      "5\n",
      "5\n",
      "5\n",
      "5\n",
      "5\n",
      "exit\n",
      "done\n"
     ]
    }
   ],
   "source": [
    "# your code\n",
    "\n",
    "word = input()\n",
    "\n",
    "while word != \"exit\" :\n",
    "    word = input()\n",
    "    \n",
    "print(\"done\")\n",
    "\n"
   ]
  },
  {
   "cell_type": "markdown",
   "metadata": {},
   "source": [
    "The while-loop and the for-loop are actually not that different. It is always possible to rewrite one as the other while having the exact same effect.\n",
    "\n",
    "Rewrite the following while-loop as a for-loop:"
   ]
  },
  {
   "cell_type": "code",
   "execution_count": 4,
   "metadata": {},
   "outputs": [
    {
     "name": "stdout",
     "output_type": "stream",
     "text": [
      "Look at my number: 0\n",
      "Look at my number: 1\n",
      "Look at my number: 2\n",
      "Look at my number: 3\n",
      "Look at my number: 4\n",
      "Look at my number: 5\n",
      "Look at my number: 6\n",
      "Look at my number: 7\n",
      "Look at my number: 8\n",
      "Look at my number: 9\n"
     ]
    }
   ],
   "source": [
    "some_number = 0\n",
    "while some_number < 10:\n",
    "    print(\"Look at my number:\", some_number) \n",
    "    some_number += 1  # += 1 means some_number = some_number +1"
   ]
  },
  {
   "cell_type": "code",
   "execution_count": 5,
   "metadata": {},
   "outputs": [
    {
     "name": "stdout",
     "output_type": "stream",
     "text": [
      "look at my number: 0\n",
      "look at my number: 1\n",
      "look at my number: 2\n",
      "look at my number: 3\n",
      "look at my number: 4\n",
      "look at my number: 5\n",
      "look at my number: 6\n",
      "look at my number: 7\n",
      "look at my number: 8\n",
      "look at my number: 9\n"
     ]
    }
   ],
   "source": [
    "# your code\n",
    "for i in range (0,10):\n",
    "    print(\"look at my number:\", i)\n"
   ]
  },
  {
   "cell_type": "markdown",
   "metadata": {},
   "source": [
    "Rewrite the following for-loop as a while-loop:"
   ]
  },
  {
   "cell_type": "code",
   "execution_count": 6,
   "metadata": {},
   "outputs": [
    {
     "name": "stdout",
     "output_type": "stream",
     "text": [
      "1\n",
      "4\n",
      "7\n",
      "10\n"
     ]
    }
   ],
   "source": [
    "for i in range(1, 11, 3): #ranges option 1 - can call range with 2 values (start, end )\n",
    "                            #range option 2 - (start, end, stop_size)\n",
    "    print(i)"
   ]
  },
  {
   "cell_type": "code",
   "execution_count": 7,
   "metadata": {},
   "outputs": [
    {
     "name": "stdout",
     "output_type": "stream",
     "text": [
      "40\n",
      "25\n",
      "5\n",
      "-20\n",
      "-50\n",
      "-85\n",
      "-125\n",
      "-170\n",
      "-220\n",
      "-275\n"
     ]
    }
   ],
   "source": [
    "some_number = 50  ######\n",
    "for i in range(10, 60, 5):    #*********\n",
    "    some_number -= i  #some_number = some_number - i     ########         \n",
    "    print(some_number)  #######"
   ]
  },
  {
   "cell_type": "code",
   "execution_count": 8,
   "metadata": {},
   "outputs": [
    {
     "name": "stdout",
     "output_type": "stream",
     "text": [
      "40\n",
      "25\n",
      "5\n",
      "-20\n",
      "-50\n",
      "-85\n",
      "-125\n",
      "-170\n",
      "-220\n",
      "-275\n"
     ]
    }
   ],
   "source": [
    "# your code\n",
    "some_number = 50   #######\n",
    "i = 10     #**********\n",
    "\n",
    "while i < 60: #********** \n",
    "    some_number = some_number - i   #########\n",
    "    print(some_number)  ##########\n",
    "    \n",
    "    i = i + 5 #*****************\n"
   ]
  },
  {
   "cell_type": "markdown",
   "metadata": {},
   "source": [
    "__Nested Loops__\n",
    "\n",
    "An important and powerful concept to wrap your head around is nesting loops, meaning having a loop inside a loop."
   ]
  },
  {
   "cell_type": "code",
   "execution_count": 9,
   "metadata": {},
   "outputs": [
    {
     "name": "stdout",
     "output_type": "stream",
     "text": [
      "   1   2   3\n",
      "\n",
      "   4   5   6\n",
      "\n",
      "   7   8   9\n",
      "\n"
     ]
    }
   ],
   "source": [
    "for row in range(3):\n",
    "    for column in range(3):\n",
    "        number = row * 3 + column + 1\n",
    "        print(\"  \", number, end=\"\")\n",
    "        \n",
    "    print(\"\\n\")"
   ]
  },
  {
   "cell_type": "markdown",
   "metadata": {},
   "source": [
    "What does the `end` keyword argument of the print-function do? What does `print(\"\\n\")` do?"
   ]
  },
  {
   "cell_type": "markdown",
   "metadata": {},
   "source": [
    "Write a program that creates an output like this:\n",
    "\n",
    "<code>\n",
    "* * * *\n",
    "* * * *\n",
    "* * * *\n",
    "* * * *\n",
    "</code>"
   ]
  },
  {
   "cell_type": "code",
   "execution_count": 10,
   "metadata": {},
   "outputs": [
    {
     "name": "stdout",
     "output_type": "stream",
     "text": [
      "****\n",
      "\n",
      "****\n",
      "\n",
      "****\n",
      "\n"
     ]
    }
   ],
   "source": [
    "# your code\n",
    "for i in range(0,3):\n",
    "    for j in range(0,4):\n",
    "            print(\"*\", end=\"\")\n",
    "            \n",
    "    print(\"\\n\")\n",
    "\n",
    "\n"
   ]
  },
  {
   "cell_type": "markdown",
   "metadata": {},
   "source": [
    "Now, write a program that creates an output like this:\n",
    "\n",
    "<code>\n",
    "* \n",
    "* * \n",
    "* * * \n",
    "* * * *\n",
    "</code>"
   ]
  },
  {
   "cell_type": "code",
   "execution_count": 11,
   "metadata": {},
   "outputs": [
    {
     "name": "stdout",
     "output_type": "stream",
     "text": [
      "*\n",
      "\n",
      "**\n",
      "\n",
      "***\n",
      "\n",
      "****\n",
      "\n"
     ]
    }
   ],
   "source": [
    "# your code\n",
    "for i in range(0,4):\n",
    "    for j in range(0, i+1 ):\n",
    "            print(\"*\", end=\"\")\n",
    "            \n",
    "    print(\"\\n\")\n"
   ]
  },
  {
   "cell_type": "markdown",
   "metadata": {},
   "source": [
    "Finally, write a program that creates an output like this:\n",
    "\n",
    "<code>\n",
    "      * \n",
    "    * * *\n",
    "  * * * * * \n",
    "* * * * * * *\n",
    "</code>"
   ]
  },
  {
   "cell_type": "code",
   "execution_count": 12,
   "metadata": {},
   "outputs": [
    {
     "name": "stdout",
     "output_type": "stream",
     "text": [
      "   *\n",
      "\n",
      "  ***\n",
      "\n",
      " *****\n",
      "\n",
      "*******\n",
      "\n"
     ]
    }
   ],
   "source": [
    "# your code\n",
    "\n",
    "for i in range(0,4):\n",
    "    for k in range(0,  4-(i+1)):    #create space\n",
    "            print(\" \", end=\"\")\n",
    "            \n",
    "    for j in range(0, (i*2) +1): #create star\n",
    "            print(\"*\", end=\"\")\n",
    "    print(\"\\n\")\n",
    "\n"
   ]
  },
  {
   "cell_type": "code",
   "execution_count": null,
   "metadata": {},
   "outputs": [],
   "source": []
  },
  {
   "cell_type": "markdown",
   "metadata": {},
   "source": [
    "<div style='color:gray;'> \n",
    "PART FOUR\n",
    "</div>"
   ]
  },
  {
   "cell_type": "markdown",
   "metadata": {},
   "source": [
    "Write a function `is_prime(n)` that returns `True` if n is a prime number and `False` otherwise.\n",
    "\n",
    "Reminder: A prime number is only divisible by two numbers: itself and 1."
   ]
  },
  {
   "cell_type": "code",
   "execution_count": 35,
   "metadata": {},
   "outputs": [
    {
     "data": {
      "text/plain": [
       "True"
      ]
     },
     "execution_count": 35,
     "metadata": {},
     "output_type": "execute_result"
    }
   ],
   "source": [
    "# your code\n",
    "\n",
    "def is_prime(x):\n",
    "        #check if my input x is divisible by i \n",
    "        result = True\n",
    "        \n",
    "        for i in range(2, x):  \n",
    "            if x % i == 0:\n",
    "                #if i am inside this, my number is prime\n",
    "                result = False\n",
    "                break #stops the loop short so program doesn't have to run to a really large number \n",
    "                \n",
    "        return result\n",
    "    \n",
    "is_prime(17)\n",
    "       \n"
   ]
  },
  {
   "cell_type": "code",
   "execution_count": null,
   "metadata": {},
   "outputs": [],
   "source": []
  },
  {
   "cell_type": "code",
   "execution_count": 14,
   "metadata": {},
   "outputs": [
    {
     "name": "stdout",
     "output_type": "stream",
     "text": [
      "0\n"
     ]
    }
   ],
   "source": [
    "x = 10  \n",
    "mod = x % 2\n",
    "print(mod)\n"
   ]
  },
  {
   "cell_type": "markdown",
   "metadata": {},
   "source": [
    "Use your `is_prime()` function to write a program that reads a number as input and outputs for all numbers up to it whether they are prime.\n",
    "\n",
    "Example Output:\n",
    "\n",
    "<pre>\n",
    "Please input a number: 5 \n",
    "1 is not prime.\n",
    "2 is prime.\n",
    "3 is prime.\n",
    "4 is not prime. \n",
    "5 is prime.\n",
    "</pre>"
   ]
  },
  {
   "cell_type": "code",
   "execution_count": 36,
   "metadata": {},
   "outputs": [
    {
     "name": "stdout",
     "output_type": "stream",
     "text": [
      "Please input a number: 7\n",
      "1 is prime\n",
      "2 is prime\n",
      "3 is prime\n",
      "4 is not prime\n",
      "5 is prime\n",
      "6 is not prime\n"
     ]
    }
   ],
   "source": [
    "# your code\n",
    "x = int(input(\"Please input a number: \" ))\n",
    "\n",
    "for i in range(1, x):\n",
    "    if is_prime(i) == True:\n",
    "        print(i,\"is prime\")\n",
    "    else:    \n",
    "        print(i,\"is not prime\")\n",
    "\n",
    "\n"
   ]
  },
  {
   "cell_type": "markdown",
   "metadata": {},
   "source": [
    "<div style='color:gray;'> \n",
    "PART FIVE\n",
    "</div>"
   ]
  },
  {
   "cell_type": "markdown",
   "metadata": {},
   "source": [
    "__Data Strctures__\n",
    "\n",
    "Answer the following questions and store each answer in a data structure that is suitable for it.\n",
    "\n",
    "Example:\n",
    "\n",
    "\"What are day, month and year of your birth?\"\n",
    "\n",
    "We need a `tuple`, since this is a fact consisting of several data and the date in total is never going to change."
   ]
  },
  {
   "cell_type": "code",
   "execution_count": 16,
   "metadata": {},
   "outputs": [],
   "source": [
    "my_birthdate = (1,'June',2015)"
   ]
  },
  {
   "cell_type": "markdown",
   "metadata": {},
   "source": [
    "Who are your three favourite musicians?"
   ]
  },
  {
   "cell_type": "code",
   "execution_count": null,
   "metadata": {},
   "outputs": [],
   "source": []
  },
  {
   "cell_type": "markdown",
   "metadata": {},
   "source": [
    "Which are three lectures you are taking this term and who is teaching them?"
   ]
  },
  {
   "cell_type": "code",
   "execution_count": null,
   "metadata": {},
   "outputs": [],
   "source": []
  },
  {
   "cell_type": "markdown",
   "metadata": {},
   "source": [
    "What are the names of the first five months of the year?"
   ]
  },
  {
   "cell_type": "code",
   "execution_count": null,
   "metadata": {},
   "outputs": [],
   "source": []
  },
  {
   "cell_type": "markdown",
   "metadata": {},
   "source": [
    "What are street, house number and city of your favorite character’s home (e.g. Harry Potter)?"
   ]
  },
  {
   "cell_type": "code",
   "execution_count": null,
   "metadata": {},
   "outputs": [],
   "source": []
  },
  {
   "cell_type": "markdown",
   "metadata": {},
   "source": [
    "---"
   ]
  },
  {
   "cell_type": "code",
   "execution_count": null,
   "metadata": {},
   "outputs": [],
   "source": []
  }
 ],
 "metadata": {
  "kernelspec": {
   "display_name": "Python 3 (ipykernel)",
   "language": "python",
   "name": "python3"
  },
  "language_info": {
   "codemirror_mode": {
    "name": "ipython",
    "version": 3
   },
   "file_extension": ".py",
   "mimetype": "text/x-python",
   "name": "python",
   "nbconvert_exporter": "python",
   "pygments_lexer": "ipython3",
   "version": "3.9.12"
  },
  "vscode": {
   "interpreter": {
    "hash": "ed5c4dbb0a3fc211ff2f2d42192317f1da9aa265e3f61213a0f3362c1db2222c"
   }
  }
 },
 "nbformat": 4,
 "nbformat_minor": 2
}
