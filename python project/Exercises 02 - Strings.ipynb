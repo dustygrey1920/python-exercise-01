{
 "cells": [
  {
   "cell_type": "markdown",
   "metadata": {},
   "source": [
    "<div>\n",
    "    <img src=\"images/emlyon.png\" style=\"height:60px; float:left; padding-right:10px; margin-top:5px\" />\n",
    "    <span>\n",
    "        <h1 style=\"padding-bottom:5px;\"> Python BootCamp </h1>\n",
    "        <a href=\"https://masters.em-lyon.com/en/msc-in-digital-marketing-data-science\">[Emlyon]</a> MSc in Digital Marketing & Data Science (DMDS) <br/>\n",
    "         September 2022, Paris | © Saeed VARASTEH [RP] | Lucas VILLAIN\n",
    "    </span>\n",
    "</div>"
   ]
  },
  {
   "cell_type": "markdown",
   "metadata": {},
   "source": [
    "<div class=\"alert-info\" style=\"border-bottom: solid 1px lightgray; background-color:#ece4f5;\">\n",
    "    <img src=\"images/assignment.png\" style=\"height:60px; float:left; padding-right:10px;\" />\n",
    "    <span style=\"font-weight:bold; color:#8966b0\">\n",
    "        <h4 style=\"padding-top:25px;\"> EXERCISES 02 </h4>\n",
    "    </span>\n",
    "</div>"
   ]
  },
  {
   "cell_type": "markdown",
   "metadata": {},
   "source": [
    "### Exercises 02 - Strings\n",
    "\n",
    "---"
   ]
  },
  {
   "cell_type": "markdown",
   "metadata": {},
   "source": [
    "<div style='color:gray;'> \n",
    "PART ONE\n",
    "</div>"
   ]
  },
  {
   "cell_type": "markdown",
   "metadata": {},
   "source": [
    "__String Methods__\n",
    "\n",
    "Write a piece of code that takes a list of words like this and joins it into a single string separated by spaces:"
   ]
  },
  {
   "cell_type": "code",
   "execution_count": 1,
   "metadata": {},
   "outputs": [
    {
     "data": {
      "text/plain": [
       "'Be yourself everyone else is already taken'"
      ]
     },
     "execution_count": 1,
     "metadata": {},
     "output_type": "execute_result"
    }
   ],
   "source": [
    "words=[\"Be\", \"yourself\", \"everyone\", \"else\", \"is\", \"already\", \"taken\"]\n",
    "# your code\n",
    "\n",
    "\" \".join(words)\n"
   ]
  },
  {
   "cell_type": "markdown",
   "metadata": {},
   "source": [
    "Write a piece of code to split this string into separate words (returns the list of strings)."
   ]
  },
  {
   "cell_type": "code",
   "execution_count": 2,
   "metadata": {},
   "outputs": [
    {
     "data": {
      "text/plain": [
       "['So', 'many', 'books', 'so', ' little', 'time']"
      ]
     },
     "execution_count": 2,
     "metadata": {},
     "output_type": "execute_result"
    }
   ],
   "source": [
    "mystr = \"So, many, books, so,  little, time\"\n",
    "\n",
    "# your code\n",
    "mystr.split(\", \")"
   ]
  },
  {
   "cell_type": "markdown",
   "metadata": {},
   "source": [
    "Using only `strip`, `split` and `join`, remove all whitespace from these strings and print the resulting line.\n",
    "\n",
    "\"the\\tquick brown\\tfox jumps over the lazy dog  \"\n",
    "\n",
    "The result should look as follows:\n",
    "\n",
    "thequickbrownfoxjumpsoverthelazydog"
   ]
  },
  {
   "cell_type": "code",
   "execution_count": 8,
   "metadata": {
    "scrolled": true
   },
   "outputs": [
    {
     "data": {
      "text/plain": [
       "'thequickbrownfoxjumpsoverthelazydog'"
      ]
     },
     "execution_count": 8,
     "metadata": {},
     "output_type": "execute_result"
    }
   ],
   "source": [
    "# your code\n",
    "#hint : split without any character \n",
    "\n",
    "my_str = \"the\\tquick brown\\tfox jumps over the lazy dog \"\n",
    "my_str = my_str.split( ) #the separation char is space and \\t\n",
    "my_str = \"\".join(my_str)\n",
    "my_str\n",
    "\n",
    "\n",
    "\n"
   ]
  },
  {
   "cell_type": "code",
   "execution_count": 3,
   "metadata": {},
   "outputs": [
    {
     "name": "stdout",
     "output_type": "stream",
     "text": [
      "\n",
      " hi\n"
     ]
    }
   ],
   "source": [
    "print( \"\\n hi\" ) # \\n means new line"
   ]
  },
  {
   "cell_type": "code",
   "execution_count": 4,
   "metadata": {},
   "outputs": [
    {
     "name": "stdout",
     "output_type": "stream",
     "text": [
      "\t hi\n"
     ]
    }
   ],
   "source": [
    "print( \"\\t hi\" ) # \\n means a tab"
   ]
  },
  {
   "cell_type": "markdown",
   "metadata": {},
   "source": [
    "__String Formatting__\n",
    "\n",
    "Save the following numbers in a list. Automatically calculate the average of the numbers and print the result with 5 decimals using string formatting.\n",
    "\n",
    "4.3, 6, 9.2, 1.77029, 42"
   ]
  },
  {
   "cell_type": "code",
   "execution_count": 32,
   "metadata": {
    "scrolled": true
   },
   "outputs": [
    {
     "name": "stdout",
     "output_type": "stream",
     "text": [
      "the avg is: 12.65406\n",
      "the avg is : 12.65406\n"
     ]
    }
   ],
   "source": [
    "# your code\n",
    "mylist = [4.3, 6, 9.2, 1.77029, 42]\n",
    "list_average = sum(mylist) / len(mylist)\n",
    "print(\"the avg is:\", round(list_average , 5)) # solution one: using the round function of python \n",
    "print( f\"the avg is : {list_average:.5f}\" )   #solution two using string formatting  f = format\n",
    "\n",
    "\n"
   ]
  },
  {
   "cell_type": "markdown",
   "metadata": {},
   "source": [
    "<div style='color:gray;'> \n",
    "PART TWO\n",
    "</div>"
   ]
  },
  {
   "cell_type": "markdown",
   "metadata": {},
   "source": [
    "Write a function which takes a string argument, searches for vowels (the letters \"a\", \"e\", \"i\", \"o\", \"u\") in the string, replaces them by upper case characters, and prints out the new string with the upper cases.\n",
    "\n",
    "If nothing in the string is a vowel, print \"Nothing to convert!\"."
   ]
  },
  {
   "cell_type": "code",
   "execution_count": 37,
   "metadata": {},
   "outputs": [],
   "source": [
    "def uppercase_me(word):\n",
    "    word2 = \"\"\n",
    "    list_of_vowels = [\"a\",\"e\",\"i\",\"o\",\"u\"]\n",
    "    for c in word:\n",
    "        #you need condition on c \n",
    "        \"\"\"\n",
    "        if c == \"a\":\n",
    "            word2 = word2 + c.upper()\n",
    "        elif c == \"e\":\n",
    "            word2 = word2 + c.upper()\n",
    "        elif c == \"i\":\n",
    "            word2 = word2 + c.upper()\n",
    "        elif c == \"o\":\n",
    "            word2 = word2 + c.upper()\n",
    "        elif c == \"u\":\n",
    "            word2 = word2 + c.upper()\n",
    "        \"\"\"\n",
    "        \"\"\"\n",
    "        if c == \"a\" or c = \"e\" or c == \"i\" or c == \"o\" or c == \"u\":\n",
    "                word2 = word2 + c.upper()\n",
    "        \"\"\"\n",
    "        if c in list_of_vowels:\n",
    "            word2 = word2 + c.upper()\n",
    "        else:\n",
    "            word2 = word2 + c\n",
    "\n",
    "    print(word2)\n"
   ]
  },
  {
   "cell_type": "code",
   "execution_count": 21,
   "metadata": {},
   "outputs": [
    {
     "ename": "NameError",
     "evalue": "name 'uppercase_me' is not defined",
     "output_type": "error",
     "traceback": [
      "\u001b[1;31m---------------------------------------------------------------------------\u001b[0m",
      "\u001b[1;31mNameError\u001b[0m                                 Traceback (most recent call last)",
      "Input \u001b[1;32mIn [21]\u001b[0m, in \u001b[0;36m<cell line: 2>\u001b[1;34m()\u001b[0m\n\u001b[0;32m      1\u001b[0m \u001b[38;5;66;03m# test your function\u001b[39;00m\n\u001b[1;32m----> 2\u001b[0m \u001b[43muppercase_me\u001b[49m(\u001b[38;5;124m\"\u001b[39m\u001b[38;5;124mhello!\u001b[39m\u001b[38;5;124m\"\u001b[39m)\n",
      "\u001b[1;31mNameError\u001b[0m: name 'uppercase_me' is not defined"
     ]
    }
   ],
   "source": [
    "# test your function\n",
    "uppercase_me(\"hello!\") # --> hEllO"
   ]
  },
  {
   "cell_type": "markdown",
   "metadata": {},
   "source": [
    "<div style='color:gray;'> \n",
    "PART THREE\n",
    "</div>"
   ]
  },
  {
   "cell_type": "markdown",
   "metadata": {},
   "source": [
    "__Word on Avocados__\n",
    "\n",
    "Print the string `article`. It contains the first few paragraphs of an article on the New York Times Website."
   ]
  },
  {
   "cell_type": "code",
   "execution_count": 6,
   "metadata": {
    "scrolled": true
   },
   "outputs": [],
   "source": [
    "article = \"\"\"High-Tech Degrees and the Price of an Avocado: The Data New York Gave to Amazon\\n\\nThe city and state sent loads of data to Amazon during its search for a new headquarters, offering a peek into the valuable information the company collected during the process.\\n\\nKaren Weise\\n\\nBy Karen Weise\\n\\n\\tDec. 12, 2018\\n\\n[Updated Feb. 14: Amazon said it was canceling plans to build a corporate campus in New York City, after the deal had run into fierce opposition from local lawmakers who criticized providing subsidies to one of the world’s most valuable companies.]\\n\\nAn avocado at Whole Foods costs 1.25. \\nColumbia University handed out 724 graduate degrees in computer science over the past three years. \\nAnd 10 potential land parcels in Long Island City are zoned M1-4, for light manufacturing.\\n\\nNew York provided all of these data points, and thousands more, to Amazon as part of its successful bid to woo the tech giant to town.\\n\\nOn Monday, New York City posted online the 253-page proposal it submitted, along with New York State, to Amazon in March. \\nThe city quickly took the file down, saying it should have checked with its partners before posting it, because the document included proprietary information. \\nBut The New York Times downloaded the document before it was taken off the public website.\\n\\nThe proposal shows the types of data, some rarely available publicly, that the company amassed from cities across the country as part of its search for a second headquarters.\n",
    "\"\"\""
   ]
  },
  {
   "cell_type": "code",
   "execution_count": 7,
   "metadata": {
    "scrolled": true
   },
   "outputs": [
    {
     "name": "stdout",
     "output_type": "stream",
     "text": [
      "High-Tech Degrees and the Price of an Avocado: The Data New York Gave to Amazon\n",
      "\n",
      "The city and state sent loads of data to Amazon during its search for a new headquarters, offering a peek into the valuable information the company collected during the process.\n",
      "\n",
      "Karen Weise\n",
      "\n",
      "By Karen Weise\n",
      "\n",
      "\tDec. 12, 2018\n",
      "\n",
      "[Updated Feb. 14: Amazon said it was canceling plans to build a corporate campus in New York City, after the deal had run into fierce opposition from local lawmakers who criticized providing subsidies to one of the world’s most valuable companies.]\n",
      "\n",
      "An avocado at Whole Foods costs 1.25. \n",
      "Columbia University handed out 724 graduate degrees in computer science over the past three years. \n",
      "And 10 potential land parcels in Long Island City are zoned M1-4, for light manufacturing.\n",
      "\n",
      "New York provided all of these data points, and thousands more, to Amazon as part of its successful bid to woo the tech giant to town.\n",
      "\n",
      "On Monday, New York City posted online the 253-page proposal it submitted, along with New York State, to Amazon in March. \n",
      "The city quickly took the file down, saying it should have checked with its partners before posting it, because the document included proprietary information. \n",
      "But The New York Times downloaded the document before it was taken off the public website.\n",
      "\n",
      "The proposal shows the types of data, some rarely available publicly, that the company amassed from cities across the country as part of its search for a second headquarters.\n",
      "\n"
     ]
    }
   ],
   "source": [
    "print(article)"
   ]
  },
  {
   "cell_type": "markdown",
   "metadata": {},
   "source": [
    "Write a script that answers the following questions on the contents of the above article:\n",
    "\n",
    "What is the most frequent word in the text?"
   ]
  },
  {
   "cell_type": "code",
   "execution_count": 8,
   "metadata": {
    "scrolled": true
   },
   "outputs": [
    {
     "data": {
      "text/plain": [
       "{'High-Tech': 1,\n",
       " 'Degrees': 1,\n",
       " 'and': 3,\n",
       " 'the': 16,\n",
       " 'Price': 1,\n",
       " 'of': 7,\n",
       " 'an': 1,\n",
       " 'Avocado:': 1,\n",
       " 'The': 5,\n",
       " 'Data': 1,\n",
       " 'New': 6,\n",
       " 'York': 6,\n",
       " 'Gave': 1,\n",
       " 'to': 8,\n",
       " 'Amazon': 5,\n",
       " 'city': 2,\n",
       " 'state': 1,\n",
       " 'sent': 1,\n",
       " 'loads': 1,\n",
       " 'data': 2,\n",
       " 'during': 2,\n",
       " 'its': 4,\n",
       " 'search': 2,\n",
       " 'for': 3,\n",
       " 'a': 4,\n",
       " 'new': 1,\n",
       " 'headquarters,': 1,\n",
       " 'offering': 1,\n",
       " 'peek': 1,\n",
       " 'into': 2,\n",
       " 'valuable': 2,\n",
       " 'information': 1,\n",
       " 'company': 2,\n",
       " 'collected': 1,\n",
       " 'process.': 1,\n",
       " 'Karen': 2,\n",
       " 'Weise': 2,\n",
       " 'By': 1,\n",
       " 'Dec.': 1,\n",
       " '12,': 1,\n",
       " '2018': 1,\n",
       " '[Updated': 1,\n",
       " 'Feb.': 1,\n",
       " '14:': 1,\n",
       " 'said': 1,\n",
       " 'it': 4,\n",
       " 'was': 2,\n",
       " 'canceling': 1,\n",
       " 'plans': 1,\n",
       " 'build': 1,\n",
       " 'corporate': 1,\n",
       " 'campus': 1,\n",
       " 'in': 4,\n",
       " 'City,': 1,\n",
       " 'after': 1,\n",
       " 'deal': 1,\n",
       " 'had': 1,\n",
       " 'run': 1,\n",
       " 'fierce': 1,\n",
       " 'opposition': 1,\n",
       " 'from': 2,\n",
       " 'local': 1,\n",
       " 'lawmakers': 1,\n",
       " 'who': 1,\n",
       " 'criticized': 1,\n",
       " 'providing': 1,\n",
       " 'subsidies': 1,\n",
       " 'one': 1,\n",
       " 'world’s': 1,\n",
       " 'most': 1,\n",
       " 'companies.]': 1,\n",
       " 'An': 1,\n",
       " 'avocado': 1,\n",
       " 'at': 1,\n",
       " 'Whole': 1,\n",
       " 'Foods': 1,\n",
       " 'costs': 1,\n",
       " '1.25.': 1,\n",
       " 'Columbia': 1,\n",
       " 'University': 1,\n",
       " 'handed': 1,\n",
       " 'out': 1,\n",
       " '724': 1,\n",
       " 'graduate': 1,\n",
       " 'degrees': 1,\n",
       " 'computer': 1,\n",
       " 'science': 1,\n",
       " 'over': 1,\n",
       " 'past': 1,\n",
       " 'three': 1,\n",
       " 'years.': 1,\n",
       " 'And': 1,\n",
       " '10': 1,\n",
       " 'potential': 1,\n",
       " 'land': 1,\n",
       " 'parcels': 1,\n",
       " 'Long': 1,\n",
       " 'Island': 1,\n",
       " 'City': 2,\n",
       " 'are': 1,\n",
       " 'zoned': 1,\n",
       " 'M1-4,': 1,\n",
       " 'light': 1,\n",
       " 'manufacturing.': 1,\n",
       " 'provided': 1,\n",
       " 'all': 1,\n",
       " 'these': 1,\n",
       " 'points,': 1,\n",
       " 'thousands': 1,\n",
       " 'more,': 1,\n",
       " 'as': 2,\n",
       " 'part': 2,\n",
       " 'successful': 1,\n",
       " 'bid': 1,\n",
       " 'woo': 1,\n",
       " 'tech': 1,\n",
       " 'giant': 1,\n",
       " 'town.': 1,\n",
       " 'On': 1,\n",
       " 'Monday,': 1,\n",
       " 'posted': 1,\n",
       " 'online': 1,\n",
       " '253-page': 1,\n",
       " 'proposal': 2,\n",
       " 'submitted,': 1,\n",
       " 'along': 1,\n",
       " 'with': 2,\n",
       " 'State,': 1,\n",
       " 'March.': 1,\n",
       " 'quickly': 1,\n",
       " 'took': 1,\n",
       " 'file': 1,\n",
       " 'down,': 1,\n",
       " 'saying': 1,\n",
       " 'should': 1,\n",
       " 'have': 1,\n",
       " 'checked': 1,\n",
       " 'partners': 1,\n",
       " 'before': 2,\n",
       " 'posting': 1,\n",
       " 'it,': 1,\n",
       " 'because': 1,\n",
       " 'document': 2,\n",
       " 'included': 1,\n",
       " 'proprietary': 1,\n",
       " 'information.': 1,\n",
       " 'But': 1,\n",
       " 'Times': 1,\n",
       " 'downloaded': 1,\n",
       " 'taken': 1,\n",
       " 'off': 1,\n",
       " 'public': 1,\n",
       " 'website.': 1,\n",
       " 'shows': 1,\n",
       " 'types': 1,\n",
       " 'data,': 1,\n",
       " 'some': 1,\n",
       " 'rarely': 1,\n",
       " 'available': 1,\n",
       " 'publicly,': 1,\n",
       " 'that': 1,\n",
       " 'amassed': 1,\n",
       " 'cities': 1,\n",
       " 'across': 1,\n",
       " 'country': 1,\n",
       " 'second': 1,\n",
       " 'headquarters.': 1}"
      ]
     },
     "execution_count": 8,
     "metadata": {},
     "output_type": "execute_result"
    }
   ],
   "source": [
    "# your code\n",
    "\n",
    "words = article.split()\n",
    "#text cleaning \n",
    "\n",
    "#create word_count dictionary \n",
    "word_dict = {}\n",
    "\n",
    "for w in words: \n",
    "    if w in word_dict.keys():\n",
    "        word_dict[w] = word_dict[w] + 1\n",
    "    else:\n",
    "        word_dict[w] = 1\n",
    "        \n",
    "word_dict\n",
    "        \n",
    "\n",
    "\n"
   ]
  },
  {
   "cell_type": "code",
   "execution_count": 11,
   "metadata": {},
   "outputs": [
    {
     "name": "stdout",
     "output_type": "stream",
     "text": [
      "word the with 16 repeats.\n"
     ]
    }
   ],
   "source": [
    "#find maximum repeats \n",
    "max_rep_value = 0 \n",
    "max_rep_word = \"\"\n",
    "\n",
    "for w in word_dict:\n",
    "    if word_dict[w] > max_rep_value:\n",
    "            max_rep_value = word_dict[w]\n",
    "            max_rep_word = w \n",
    "            \n",
    "print(\"word\", max_rep_word, \"with\", max_rep_value, \"repeats.\")\n",
    "        "
   ]
  },
  {
   "cell_type": "markdown",
   "metadata": {},
   "source": [
    "What is the most frequent character in the text?"
   ]
  },
  {
   "cell_type": "code",
   "execution_count": 22,
   "metadata": {
    "scrolled": true
   },
   "outputs": [
    {
     "name": "stdout",
     "output_type": "stream",
     "text": [
      "\n",
      "\n"
     ]
    }
   ],
   "source": [
    "# your code\n",
    "char_dict = {}\n",
    "\n",
    "for c in article: \n",
    "    if c in char_dict.keys():\n",
    "        char_dict[c] = char_dict[c] + 1\n",
    "        \n",
    "    else:\n",
    "        char_dict[c] = 1 \n",
    "        \n",
    "del char_dict[\" \"]\n",
    "char_dict\n",
    "   \n",
    "        \n",
    "   \n",
    "\n",
    "print(c)\n",
    "\n",
    "\n",
    "\n"
   ]
  },
  {
   "cell_type": "markdown",
   "metadata": {},
   "source": [
    "---"
   ]
  },
  {
   "cell_type": "code",
   "execution_count": 25,
   "metadata": {},
   "outputs": [
    {
     "name": "stdout",
     "output_type": "stream",
     "text": [
      "char e with 126 repeats.\n"
     ]
    }
   ],
   "source": [
    "max_rep_value = 0 \n",
    "max_rep_char = \"\"\n",
    "\n",
    "for c in char_dict:\n",
    "    if char_dict[c] > max_rep_value:\n",
    "            max_rep_value = char_dict[c]\n",
    "            max_rep_char = c \n",
    "            \n",
    "print(\"char\", max_rep_char, \"with\", max_rep_value, \"repeats.\")"
   ]
  },
  {
   "cell_type": "code",
   "execution_count": 1,
   "metadata": {},
   "outputs": [
    {
     "ename": "NameError",
     "evalue": "name 'article' is not defined",
     "output_type": "error",
     "traceback": [
      "\u001b[1;31m---------------------------------------------------------------------------\u001b[0m",
      "\u001b[1;31mNameError\u001b[0m                                 Traceback (most recent call last)",
      "Input \u001b[1;32mIn [1]\u001b[0m, in \u001b[0;36m<cell line: 1>\u001b[1;34m()\u001b[0m\n\u001b[1;32m----> 1\u001b[0m words \u001b[38;5;241m=\u001b[39m \u001b[43marticle\u001b[49m\u001b[38;5;241m.\u001b[39msplit()\n\u001b[0;32m      2\u001b[0m \u001b[38;5;66;03m#text cleaning \u001b[39;00m\n\u001b[0;32m      3\u001b[0m \n\u001b[0;32m      4\u001b[0m \u001b[38;5;66;03m#create word_count dictionary \u001b[39;00m\n\u001b[0;32m      5\u001b[0m word_dict \u001b[38;5;241m=\u001b[39m {}\n",
      "\u001b[1;31mNameError\u001b[0m: name 'article' is not defined"
     ]
    }
   ],
   "source": []
  },
  {
   "cell_type": "code",
   "execution_count": null,
   "metadata": {},
   "outputs": [],
   "source": []
  },
  {
   "cell_type": "code",
   "execution_count": null,
   "metadata": {},
   "outputs": [],
   "source": []
  }
 ],
 "metadata": {
  "kernelspec": {
   "display_name": "Python 3 (ipykernel)",
   "language": "python",
   "name": "python3"
  },
  "language_info": {
   "codemirror_mode": {
    "name": "ipython",
    "version": 3
   },
   "file_extension": ".py",
   "mimetype": "text/x-python",
   "name": "python",
   "nbconvert_exporter": "python",
   "pygments_lexer": "ipython3",
   "version": "3.9.12"
  }
 },
 "nbformat": 4,
 "nbformat_minor": 2
}
