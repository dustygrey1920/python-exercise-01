{
 "cells": [
  {
   "cell_type": "markdown",
   "metadata": {},
   "source": [
    "<div>\n",
    "    <img src=\"images/emlyon.png\" style=\"height:60px; float:left; padding-right:10px; margin-top:5px\" />\n",
    "    <span>\n",
    "        <h1 style=\"padding-bottom:5px;\"> Python BootCamp </h1>\n",
    "        <a href=\"https://masters.em-lyon.com/en/msc-in-digital-marketing-data-science\">[Emlyon]</a> MSc in Digital Marketing & Data Science (DMDS) <br/>\n",
    "         September 2022, Paris | © Saeed VARASTEH [RP] | Lucas VILLAIN\n",
    "    </span>\n",
    "</div>"
   ]
  },
  {
   "cell_type": "markdown",
   "metadata": {},
   "source": [
    "<div class=\"alert-info\" style=\"border-bottom: solid 1px lightgray; background-color:#ece4f5;\">\n",
    "    <img src=\"images/assignment.png\" style=\"height:60px; float:left; padding-right:10px;\" />\n",
    "    <span style=\"font-weight:bold; color:#8966b0\">\n",
    "        <h4 style=\"padding-top:25px;\"> EXERCISES 03 </h4>\n",
    "    </span>\n",
    "</div>"
   ]
  },
  {
   "cell_type": "markdown",
   "metadata": {},
   "source": [
    "### Exercises 03 - Modules\n",
    "\n",
    "---"
   ]
  },
  {
   "cell_type": "markdown",
   "metadata": {},
   "source": [
    "<div style='color:gray;'> \n",
    "PART ONE\n",
    "</div>"
   ]
  },
  {
   "cell_type": "markdown",
   "metadata": {},
   "source": [
    "__Understanding `time` module__\n",
    "\n",
    "Using `time`, print the number of seconds that have passed since January 1st 1970 00:00:00."
   ]
  },
  {
   "cell_type": "code",
   "execution_count": null,
   "metadata": {},
   "outputs": [],
   "source": [
    "# your code\n"
   ]
  },
  {
   "cell_type": "markdown",
   "metadata": {},
   "source": [
    "__Using `math` module__\n",
    "\n",
    "Using `math`, write two functions calculate_x and calculate_y that take an int n between 1 and 12 as an argument and return the respective value of the following formulas. \n",
    "\n",
    "$$ calculate_x(n) = 3 * sin( \\frac{n*\\pi}{6} ) $$\n",
    "$$ calculate_y(n) = 3 * cos( \\frac{n*\\pi}{6} ) $$\n",
    "\n",
    "If int n is not between 1 and 12, the functions should return -1.\n",
    "\n",
    "Note: sin x and cos x is the same as sin(x) and cos(x)."
   ]
  },
  {
   "cell_type": "code",
   "execution_count": 8,
   "metadata": {},
   "outputs": [
    {
     "data": {
      "text/plain": [
       "1.4999999999999998"
      ]
     },
     "execution_count": 8,
     "metadata": {},
     "output_type": "execute_result"
    }
   ],
   "source": [
    "# your code\n",
    "import math\n",
    "\n",
    "def caluclute_x(n):\n",
    "    if n in range(1,13):\n",
    "        x = 3 * math.sin((n* math.pi)/6)\n",
    "       \n",
    "    else:\n",
    "        x = -1 \n",
    "      \n",
    "    \n",
    "    return x\n",
    "caluclute_x(5)\n",
    "    \n",
    "\n",
    "\n"
   ]
  },
  {
   "cell_type": "code",
   "execution_count": 9,
   "metadata": {},
   "outputs": [
    {
     "data": {
      "text/plain": [
       "-1"
      ]
     },
     "execution_count": 9,
     "metadata": {},
     "output_type": "execute_result"
    }
   ],
   "source": [
    "import math\n",
    "\n",
    "def caluclute_x(n):\n",
    "    if n in range(1,13):\n",
    "        x = 3 * math.cos((n* math.pi)/6)\n",
    "    else:\n",
    "        x = -1 \n",
    "    return x\n",
    "caluclute_x(13)\n",
    "    \n"
   ]
  },
  {
   "cell_type": "markdown",
   "metadata": {},
   "source": [
    "__Using `os` module__\n",
    "\n",
    "Write a function create_folders that takes in a nested 2d list of strings and creates a folder structure based on this.\n",
    "\n",
    "The strings indicate the names of the folders. The list should always contain the name of the folder, followed by a list of its subfolders. \n",
    "\n",
    "Example input:\n",
    "\n",
    "<pre>\n",
    "structure = [f1, [subf11, subf12], f2 ,[subf21, subf22, subf23], f3]\n",
    "</pre>\n",
    "\n",
    "Note: Like f3 in the example, not every folder will have subfolders. Therefore you have to check wether the next entry is a string or a list."
   ]
  },
  {
   "cell_type": "code",
   "execution_count": null,
   "metadata": {},
   "outputs": [],
   "source": [
    "# your code\n",
    "\n"
   ]
  },
  {
   "cell_type": "markdown",
   "metadata": {},
   "source": [
    "__Random Numbers__\n",
    "\n",
    "You can generate random numbers using the `random` module:"
   ]
  },
  {
   "cell_type": "code",
   "execution_count": 10,
   "metadata": {},
   "outputs": [
    {
     "name": "stdout",
     "output_type": "stream",
     "text": [
      "6\n"
     ]
    }
   ],
   "source": [
    "from random import randint\n",
    "n = randint(1, 10)\n",
    "print(n)"
   ]
  },
  {
   "cell_type": "markdown",
   "metadata": {},
   "source": [
    "Write a program that generates a string of variable length n like this: XXOOOXXXOOOXXXXXXXOO\n",
    "\n",
    "where the probability for __X__ should be 70% and the probability for __O__ should be 30%."
   ]
  },
  {
   "cell_type": "code",
   "execution_count": 15,
   "metadata": {},
   "outputs": [
    {
     "name": "stdout",
     "output_type": "stream",
     "text": [
      "what is n: 75\n",
      "0XX0X0XXXXXXXX0XX00XX00XXX000XX000XXX0XXXXXXXXX0XXXXXXXX00X0XXX0X0XX0XXX000\n"
     ]
    }
   ],
   "source": [
    "# your code\n",
    "from random import randint, random \n",
    "n = randint(1,100)\n",
    "print(\"what is n:\", n)\n",
    "\n",
    "word = \"\"\n",
    "for i in range(n):\n",
    "    if random() > 0.3:\n",
    "        word = word + \"X\"\n",
    "        \n",
    "    else: \n",
    "        word = word + \"0\"\n",
    "    \n",
    "print(word)"
   ]
  },
  {
   "cell_type": "markdown",
   "metadata": {},
   "source": [
    "Write a function \"make_random_grid\" that returns a two-dimensional nested list filled with random numbers between 0 and 99. The number of rows and columns of the nested list should be adjustable.\n",
    "\n",
    "<pre>\n",
    "print(make_random_grid(3, 4))\n",
    "</pre>"
   ]
  },
  {
   "cell_type": "code",
   "execution_count": null,
   "metadata": {},
   "outputs": [],
   "source": [
    "# your code\n",
    "\n"
   ]
  },
  {
   "cell_type": "markdown",
   "metadata": {},
   "source": [
    "---"
   ]
  },
  {
   "cell_type": "code",
   "execution_count": null,
   "metadata": {},
   "outputs": [],
   "source": []
  }
 ],
 "metadata": {
  "kernelspec": {
   "display_name": "Python 3 (ipykernel)",
   "language": "python",
   "name": "python3"
  },
  "language_info": {
   "codemirror_mode": {
    "name": "ipython",
    "version": 3
   },
   "file_extension": ".py",
   "mimetype": "text/x-python",
   "name": "python",
   "nbconvert_exporter": "python",
   "pygments_lexer": "ipython3",
   "version": "3.9.12"
  }
 },
 "nbformat": 4,
 "nbformat_minor": 2
}
