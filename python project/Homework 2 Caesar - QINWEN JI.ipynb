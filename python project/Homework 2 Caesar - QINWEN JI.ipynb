{
 "cells": [
  {
   "cell_type": "markdown",
   "metadata": {},
   "source": [
    "<div>\n",
    "    <img src=\"images/emlyon.png\" style=\"height:60px; float:left; padding-right:10px; margin-top:5px\" />\n",
    "    <span>\n",
    "        <h1 style=\"padding-bottom:5px;\"> Python BootCamp </h1>\n",
    "        <a href=\"https://masters.em-lyon.com/en/msc-in-digital-marketing-data-science\">[Emlyon]</a> MSc in Digital Marketing & Data Science (DMDS) <br/>\n",
    "         September 2022, Paris | © Saeed VARASTEH [RP] | Lucas VILLAIN\n",
    "    </span>\n",
    "</div>"
   ]
  },
  {
   "cell_type": "markdown",
   "metadata": {},
   "source": [
    "<div class=\"alert-info\" style=\"border-bottom: solid 1px lightgray; background-color:#fff4e3;\">\n",
    "    <img src=\"images/homework.png\" style=\"height:60px; float:left; padding-right:10px;\" />\n",
    "    <span style=\"font-weight:bold; color:#db9425\">\n",
    "        <h4 style=\"padding-top:25px;\"> HOMEWORK 02 </h4>\n",
    "    </span>\n",
    "</div>"
   ]
  },
  {
   "cell_type": "markdown",
   "metadata": {},
   "source": [
    "### Homework 02 - Caesar Cipher\n",
    "\n",
    "---"
   ]
  },
  {
   "cell_type": "markdown",
   "metadata": {},
   "source": [
    "The Caesar Cipher is a very simple encryption method that replaces each letter in a text by another letter which is specified by a given shift in the alphabet. The shift determines how many letters in the alphabet one should go ahead to find the replacement.\n",
    "\n",
    "Example:\n",
    "\n",
    "- The letter ”a” with shift 1 results in the letter ”b”.\n",
    "- The letter ”c” with shift 2 results in the letter ”e”.\n",
    "\n",
    "Negative shifting is also possible: \n",
    "\n",
    "- The letter ”f” with shift -1 results in the letter ”e”.\n",
    "\n",
    "When a letter would ”drop off” one end of the alphabet, we just start at the other end:\n",
    "\n",
    "- The letter ”z” with shift 1 results in the letter ”a”. \n",
    "- The letter ”a” with shift -3 results in the letter ”x”"
   ]
  },
  {
   "cell_type": "markdown",
   "metadata": {},
   "source": [
    "__The Task__\n",
    "\n",
    "After years of work for the secret society of secrets, you have finally got your hands on a secret message from the evil league of evil and want to decrypt it. Due to your extensive study of the evil league of evil, you already know that they always encrypt their messages using the Caesar Cipher. As your time is too valuable to just try out every single possible shift. \n",
    "\n",
    "You remember that some letters are more common than others in the English language, e.g. the letter ”e” is the most common one. Using this knowledge you want to analyze the secret message and figure out the key.\n",
    "\n",
    "In order to do so, follow these steps:\n",
    "\n",
    "1. Go through the given, encrypted string and count how often each letter appears. Save the result in an an appropriate data structure.\n",
    "\n",
    "2. Find the most common letter in the secret message, knowing that ”e” is the most common letter in the English language, calculate the shift that was used to encrypt the message.\n",
    "\n",
    "Hint: You can use python's `set` and `dict`."
   ]
  },
  {
   "cell_type": "code",
   "execution_count": 1,
   "metadata": {},
   "outputs": [],
   "source": [
    "secret_message = \"\"\"Pm fvb nla tf tlzzhnl, Fvb ullk av ruvd aol Ltsfvu Wfaovu IvvaJhtw pz leayltlsf hthgpun!\"\"\".lower()"
   ]
  },
  {
   "cell_type": "code",
   "execution_count": 2,
   "metadata": {},
   "outputs": [
    {
     "name": "stdout",
     "output_type": "stream",
     "text": [
      "pm fvb nla tf tlzzhnl, fvb ullk av ruvd aol ltsfvu wfaovu ivvajhtw pz leayltlsf hthgpun!\n"
     ]
    }
   ],
   "source": [
    "print(secret_message)"
   ]
  },
  {
   "cell_type": "code",
   "execution_count": null,
   "metadata": {},
   "outputs": [],
   "source": [
    "# your code\n",
    "message = str(secret_message).replace(',','')\n",
    "message = str(message).replace('!', '')\n",
    "message = set('',join(messsage.split()))\n",
    "print(message):\n",
    "    \n",
    "Dict = dict()\n",
    "times = 0 \n",
    "for i in message:\n",
    "    for j in secret_message: \n",
    "        if j = i : \n",
    "        times += 1 \n",
    "    Dic[i] = times \n",
    "    times = 0 \n",
    "print(Dict)\n",
    "for key, value in Dict.itme():\n",
    "    if (value == max(Dict.value())): \n",
    "        print(\"which letter is e:\" , key,\"and how many times it appeared: \", value)\n",
    "\n",
    "shift = 7 \n",
    "print('shift = ', shift)\n",
    "\n"
   ]
  },
  {
   "cell_type": "markdown",
   "metadata": {},
   "source": [
    "3. Decrypt the message: After you figure out the shift, you are now ready to write a program that will decrypt your secret message, based on the shift that was used."
   ]
  },
  {
   "cell_type": "code",
   "execution_count": null,
   "metadata": {},
   "outputs": [],
   "source": [
    "# your code\n",
    "real_message = \"\n",
    "for i in secrect_message:\n",
    "    after_shift = ord(i)\n",
    "    #print(\"i=\",i,\"after_shift=\", after_shift)\n",
    "    if 97 <= after_shift <= 122:\n",
    "        before_shift = after_shift - 7 \n",
    "        if before_shift < 97:\n",
    "            before_shift = before_shift -96+122\n",
    "        J =chr(before_shift)\n",
    "        \n",
    "    else:\n",
    "        J= i \n",
    "    real_message += j\n",
    "print(real_message)\n",
    "\n"
   ]
  },
  {
   "cell_type": "markdown",
   "metadata": {},
   "source": [
    "__Hint:__ You will need the functions `ord` and `chr`. Remember, unicode numbers are from 97 to 122."
   ]
  },
  {
   "cell_type": "code",
   "execution_count": null,
   "metadata": {
    "scrolled": true
   },
   "outputs": [],
   "source": []
  },
  {
   "cell_type": "markdown",
   "metadata": {},
   "source": [
    "---"
   ]
  },
  {
   "cell_type": "code",
   "execution_count": null,
   "metadata": {},
   "outputs": [],
   "source": []
  }
 ],
 "metadata": {
  "kernelspec": {
   "display_name": "Python 3 (ipykernel)",
   "language": "python",
   "name": "python3"
  },
  "language_info": {
   "codemirror_mode": {
    "name": "ipython",
    "version": 3
   },
   "file_extension": ".py",
   "mimetype": "text/x-python",
   "name": "python",
   "nbconvert_exporter": "python",
   "pygments_lexer": "ipython3",
   "version": "3.9.12"
  }
 },
 "nbformat": 4,
 "nbformat_minor": 2
}
