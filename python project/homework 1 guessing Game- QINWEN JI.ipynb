{
 "cells": [
  {
   "cell_type": "markdown",
   "metadata": {},
   "source": [
    "<div>\n",
    "    <img src=\"images/emlyon.png\" style=\"height:60px; float:left; padding-right:10px; margin-top:5px\" />\n",
    "    <span>\n",
    "        <h1 style=\"padding-bottom:5px;\"> Python BootCamp </h1>\n",
    "        <a href=\"https://masters.em-lyon.com/en/msc-in-digital-marketing-data-science\">[Emlyon]</a> MSc in Digital Marketing & Data Science (DMDS) <br/>\n",
    "         September 2022, Paris | © Saeed VARASTEH [RP] | Lucas VILLAIN\n",
    "    </span>\n",
    "</div>"
   ]
  },
  {
   "cell_type": "markdown",
   "metadata": {},
   "source": [
    "<div class=\"alert-info\" style=\"border-bottom: solid 1px lightgray; background-color:#fff4e3;\">\n",
    "    <img src=\"images/homework.png\" style=\"height:60px; float:left; padding-right:10px;\" />\n",
    "    <span style=\"font-weight:bold; color:#db9425\">\n",
    "        <h4 style=\"padding-top:25px;\"> HOMEWORK 01 </h4>\n",
    "    </span>\n",
    "</div>"
   ]
  },
  {
   "cell_type": "markdown",
   "metadata": {},
   "source": [
    "### Homework 01 - Guessing Game\n",
    "\n",
    "---"
   ]
  },
  {
   "cell_type": "markdown",
   "metadata": {},
   "source": [
    "Use random number generation to program a little game:\n",
    "\n",
    "The computer thinks of a random number between 1 and 100. It then prompts the user to guess what the number is. If the user is wrong, the computer prints whether the secret number is greater or smaller than the guessed one. The user may then guess again. If the user is finally right, the computer prints the user’s score (number of tries it took).\n",
    "\n",
    "Example Output:\n",
    "\n",
    "<pre>\n",
    "Ok, I have thought of a number. First guess: <b>10</b> \n",
    "My number is smaller than that. Next guess: <b>5</b> \n",
    "My number is larger than that. Next guess: <b>7</b> \n",
    "Correct! It took you 3 guesses.\n",
    "</pre>"
   ]
  },
  {
   "cell_type": "code",
   "execution_count": 17,
   "metadata": {
    "scrolled": true
   },
   "outputs": [
    {
     "ename": "IndentationError",
     "evalue": "unindent does not match any outer indentation level (<tokenize>, line 13)",
     "output_type": "error",
     "traceback": [
      "\u001b[0;36m  File \u001b[0;32m<tokenize>:13\u001b[0;36m\u001b[0m\n\u001b[0;31m    if input_number < random_number:\u001b[0m\n\u001b[0m    ^\u001b[0m\n\u001b[0;31mIndentationError\u001b[0m\u001b[0;31m:\u001b[0m unindent does not match any outer indentation level\n"
     ]
    }
   ],
   "source": [
    "# your code\n",
    "import random\n",
    "random_number = random.randint(1,100)\n",
    "tried_times = 0\n",
    "\n",
    "input_number = int(input('i have a number in mind for first guess'))\n",
    "#print(input_number)\n",
    "\n",
    "\n",
    "while input_number != random_number :\n",
    "      tried_times += 1 \n",
    "      #print(tried_times)\n",
    "    if input_number < random_number: \n",
    "        input_number = int(input('my number is smaller than that.Next guess: '))\n",
    "        \n",
    "        \n",
    "    else:\n",
    "        input_number = int(input('my number is larger than that.Next guess: '))\n",
    "        \n",
    "    tried_times += 1 \n",
    "    print('correct! It is the correct number ', tried_times, \"guesses.\")\n",
    "\n"
   ]
  },
  {
   "cell_type": "markdown",
   "metadata": {},
   "source": [
    "---"
   ]
  },
  {
   "cell_type": "code",
   "execution_count": 1,
   "metadata": {},
   "outputs": [
    {
     "ename": "SyntaxError",
     "evalue": "invalid syntax (613864088.py, line 1)",
     "output_type": "error",
     "traceback": [
      "\u001b[0;36m  Input \u001b[0;32mIn [1]\u001b[0;36m\u001b[0m\n\u001b[0;31m    I have a number in mind for first guess\u001b[0m\n\u001b[0m      ^\u001b[0m\n\u001b[0;31mSyntaxError\u001b[0m\u001b[0;31m:\u001b[0m invalid syntax\n"
     ]
    }
   ],
   "source": [
    "   "
   ]
  },
  {
   "cell_type": "code",
   "execution_count": null,
   "metadata": {},
   "outputs": [],
   "source": []
  }
 ],
 "metadata": {
  "kernelspec": {
   "display_name": "Python 3 (ipykernel)",
   "language": "python",
   "name": "python3"
  },
  "language_info": {
   "codemirror_mode": {
    "name": "ipython",
    "version": 3
   },
   "file_extension": ".py",
   "mimetype": "text/x-python",
   "name": "python",
   "nbconvert_exporter": "python",
   "pygments_lexer": "ipython3",
   "version": "3.9.12"
  }
 },
 "nbformat": 4,
 "nbformat_minor": 2
}
